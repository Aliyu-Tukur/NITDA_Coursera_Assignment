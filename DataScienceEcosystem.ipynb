{
 "cells": [
  {
   "cell_type": "markdown",
   "id": "7d6f23fb-c069-4e6d-a058-21b86b2625e1",
   "metadata": {
    "tags": []
   },
   "source": [
    "# Data Science Tools and Ecosystem"
   ]
  },
  {
   "cell_type": "markdown",
   "id": "7e27f4f4-e4bc-445e-a7bd-671a3a16fd6b",
   "metadata": {},
   "source": [
    "In this notebook, Data Science Tools and Ecosystem are summarized."
   ]
  },
  {
   "cell_type": "markdown",
   "id": "5e05ef30-7129-4968-92f4-7060c347653b",
   "metadata": {},
   "source": [
    "Some of the popular languages that Data Scientists use are:\n",
    "1. Python\n",
    "2. R\n",
    "3. SQL\n",
    "4. Java\n",
    "5. Julia\n",
    "6. Scala\n",
    "7. C/C++\n",
    "8. JavaScript\n",
    "9. Swift\n",
    "10. Go\n",
    "11. MATLAB"
   ]
  },
  {
   "cell_type": "markdown",
   "id": "96d7ea98-684c-46d6-8e40-0b33920f9eb2",
   "metadata": {},
   "source": [
    "Some of the commonly used libraries used by Data Scientists include:\n",
    "1. TensorFlow\n",
    "2. NumPy\n",
    "3. SciPy \n",
    "4. Pandas\n",
    "5. Matplotlib \n",
    "6. Keras\n",
    "7. SciKit-Learn\n",
    "8. PyTorch\n",
    "9. Caret"
   ]
  },
  {
   "cell_type": "markdown",
   "id": "3b85f4f6-7e3c-4832-af42-2bea3dba1339",
   "metadata": {},
   "source": [
    "|Data Science Tools|\n",
    "--------------------\n",
    "|Jupyter Lab|\n",
    "|RStudio|\n",
    "|Apache Spark|"
   ]
  },
  {
   "cell_type": "markdown",
   "id": "4f7ca88c-ca02-4370-8338-509a45fae696",
   "metadata": {},
   "source": [
    "### Below are a few examples of evaluating arithmetic expressions in Python"
   ]
  },
  {
   "cell_type": "code",
   "execution_count": 2,
   "id": "01cc58d3-ba87-4e7d-8ce5-586f1a587808",
   "metadata": {
    "tags": []
   },
   "outputs": [
    {
     "data": {
      "text/plain": [
       "17"
      ]
     },
     "execution_count": 2,
     "metadata": {},
     "output_type": "execute_result"
    }
   ],
   "source": [
    "# This a simple arithmetic expression to mutiply then add integers\n",
    "(3*4)+5"
   ]
  },
  {
   "cell_type": "code",
   "execution_count": 4,
   "id": "cd316248-a7c7-48ff-8c5b-6399e70f8c73",
   "metadata": {
    "tags": []
   },
   "outputs": [
    {
     "name": "stdout",
     "output_type": "stream",
     "text": [
      "3.3333333333333335 hours\n"
     ]
    }
   ],
   "source": [
    "# This will convert 200 minutes to hours by diving by 60\n",
    "time = 200/60\n",
    "print(str(time) + \" hours\")"
   ]
  },
  {
   "cell_type": "markdown",
   "id": "c9cd1729-f1b0-4a00-b535-ef6a7e07d3c2",
   "metadata": {},
   "source": [
    "__Objectives:__\n",
    "+ List popular languages for Data Science\n",
    "* List commonly used libraries used by Data Scientists\n",
    "- Tabulate three IDE open source tools used in data science\n",
    "+ Evaluating arithmetic expressions in Python\n",
    "- Time conversion fron minute to hour"
   ]
  },
  {
   "cell_type": "markdown",
   "id": "12b64de3-1992-43c8-985e-693fd6031f18",
   "metadata": {},
   "source": [
    "## Author\n",
    "Aliyu Tukur"
   ]
  },
  {
   "cell_type": "code",
   "execution_count": null,
   "id": "4d8f30a7-f6f4-4202-a9f5-280e8d44a45c",
   "metadata": {},
   "outputs": [],
   "source": []
  }
 ],
 "metadata": {
  "kernelspec": {
   "display_name": "Python",
   "language": "python",
   "name": "conda-env-python-py"
  },
  "language_info": {
   "codemirror_mode": {
    "name": "ipython",
    "version": 3
   },
   "file_extension": ".py",
   "mimetype": "text/x-python",
   "name": "python",
   "nbconvert_exporter": "python",
   "pygments_lexer": "ipython3",
   "version": "3.7.12"
  }
 },
 "nbformat": 4,
 "nbformat_minor": 5
}
